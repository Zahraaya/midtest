{
 "cells": [
  {
   "cell_type": "code",
   "execution_count": 8,
   "metadata": {},
   "outputs": [
    {
     "name": "stdout",
     "output_type": "stream",
     "text": [
      "Azzahra\n"
     ]
    }
   ],
   "source": [
    "def third_place(names, score):\n",
    "### Your code starts here ###\n",
    "    names = [\"Fatimah\", \"Azzahra\", \"Naufal\", \"Hattan\", \"Icha\"]\n",
    "    scores = [75, 86, 66, 92, 89]\n",
    "\n",
    "print(sorted(zip(names, scores) , key=lambda x: x[1]) [-3][0])"
   ]
  }
 ],
 "metadata": {
  "kernelspec": {
   "display_name": "Python 3",
   "language": "python",
   "name": "python3"
  },
  "language_info": {
   "codemirror_mode": {
    "name": "ipython",
    "version": 3
   },
   "file_extension": ".py",
   "mimetype": "text/x-python",
   "name": "python",
   "nbconvert_exporter": "python",
   "pygments_lexer": "ipython3",
   "version": "3.11.8"
  }
 },
 "nbformat": 4,
 "nbformat_minor": 2
}
